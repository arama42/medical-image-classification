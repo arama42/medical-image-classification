{
  "cells": [
    {
      "cell_type": "code",
      "execution_count": 9,
      "metadata": {
        "id": "kUXJXNVR9_XD"
      },
      "outputs": [],
      "source": [
        "import cv2\n",
        "import numpy as np\n",
        "from matplotlib import pyplot as plt\n",
        "import glob\n",
        "from google.colab.patches import cv2_imshow\n",
        "import cv2"
      ]
    },
    {
      "cell_type": "code",
      "source": [
        "path = \"../../Dataset/chest_xray/chest_xray/train/NORMAL/*.*\"\n",
        "for file in glob.glob(path)[:10]:\n",
        "   print(file)\n",
        "   img = cv2.imread(file)  \n",
        "   print(img.shape)\n",
        "   plt.hist(img.ravel(),256,[0,256])\n",
        "   plt.show()\n"
      ],
      "metadata": {
        "id": "8wOeN-WNg9_4"
      },
      "execution_count": null,
      "outputs": []
    },
    {
      "cell_type": "code",
      "execution_count": null,
      "metadata": {
        "id": "KFY-l5KCBkpO"
      },
      "outputs": [],
      "source": [
        "path = \"../../Dataset/chest_xray/chest_xray/train/PNEUMONIA/*.*\"\n",
        "for file in glob.glob(path)[:10]:\n",
        "   print(file)\n",
        "   img= cv2.imread(file)\n",
        "   plt.hist(img.ravel(),256,[0,256])\n",
        "   plt.show()\n"
      ]
    },
    {
      "cell_type": "code",
      "source": [
        "path = \"../../Dataset/chest_xray/chest_xray/train/NORMAL/*.*\"\n",
        "for file in glob.glob(path)[:10]:\n",
        "  cim = cv2.imread(file)\n",
        "  hsvim = cv2.cvtColor(cim,cv2.COLOR_RGB2HSV)\n",
        "  huemask1 = ((hsvim >np.array([100,0,0])).astype(np.float32)+(hsvim>np.array([100,0,0])).astype(np.float32)*(-0.5)+0.5)\n",
        "  mask1_intrd = (huemask1.astype(np.uint8))*255\n",
        "  cv2_imshow(hsvim)"
      ],
      "metadata": {
        "id": "jAbHYgKlgzgU"
      },
      "execution_count": null,
      "outputs": []
    },
    {
      "cell_type": "code",
      "execution_count": null,
      "metadata": {
        "id": "lZLXM0wJ-evN"
      },
      "outputs": [],
      "source": [
        "path = \"../../Dataset/chest_xray/chest_xray/train/temp*.*\" \n",
        "for file in glob.glob(path):\n",
        "   print(file)\n",
        "   img = cv2.imread(file)  \n",
        "   print(img.shape)\n",
        "   plt.hist(img.ravel(),bins=np.linspace(0, 255, 50), \n",
        "                   histtype=u'step', density=True)\n",
        "plt.show()"
      ]
    },
    {
      "cell_type": "code",
      "source": [
        "blackp = []\n",
        "whitep = []\n",
        "labelp = []\n",
        "c = 0\n",
        "path = \"../../Dataset/chest_xray/chest_xray/train/PNEUMONIA/*.*\"\n",
        "for file in glob.glob(path): \n",
        "   img= cv2.imread(file,0)\n",
        "   cb = 0\n",
        "   cw = 0\n",
        "   for i  in range (len(img)):\n",
        "     for j in range (len(img[0])):\n",
        "       if(img[i][j]<20):\n",
        "         cb += 1\n",
        "       else:\n",
        "        cw +=1\n",
        "   c +=1\n",
        "   if(c == 100):\n",
        "     break\n",
        "   blackp.append(cb)\n",
        "   whitep.append(cw)\n",
        "   labelp.append(0)\n",
        "\n",
        "blackn = []\n",
        "whiten = []\n",
        "labeln = []\n",
        "c = 0\n",
        "path = \"../../Dataset/chest_xray/chest_xray/train/NORMAL/*.*\"\n",
        "for file in glob.glob(path): \n",
        "   img= cv2.imread(file,0)\n",
        "   cb = 0\n",
        "   cw = 0\n",
        "   for i  in range (len(img)):\n",
        "     for j in range (len(img[0])):\n",
        "       if(img[i][j]<20):\n",
        "         cb += 1\n",
        "       else:\n",
        "        cw +=1\n",
        "     c +=1\n",
        "     if(c == 100):\n",
        "        break\n",
        "   blackn.append(cb)\n",
        "   whiten.append(cw)\n",
        "   labeln.append(1)\n",
        "\n",
        "\n"
      ],
      "metadata": {
        "id": "bttYsvtTLinJ"
      },
      "execution_count": null,
      "outputs": []
    },
    {
      "cell_type": "code",
      "source": [
        "colors = ['b','r']\n",
        "a = plt.scatter(blackp, whitep, c=colors[0], alpha=0.5)  \n",
        "b = plt.scatter(blackn, whiten, c=colors[1], alpha=0.5)\n",
        "plt.legend((a,b),(\"pneumonia\",\"normal\"))\n",
        "plt.show()   "
      ],
      "metadata": {
        "colab": {
          "base_uri": "https://localhost:8080/",
          "height": 276
        },
        "id": "o972V5pmK-cn",
        "outputId": "38389396-14b2-448c-f005-b7f782cb72a2"
      },
      "execution_count": null,
      "outputs": [
        {
          "output_type": "display_data",
          "data": {
            "text/plain": [
              "<Figure size 432x288 with 1 Axes>"
            ],
            "image/png": "[encoded data removed]"
          },
          "metadata": {
            "needs_background": "light"
          }
        }
      ]
    },
    {
      "cell_type": "code",
      "source": [
        "path = \"/content/drive/MyDrive/train/temp/*.*\"\n",
        "for file in glob.glob(path)[:10]: \n",
        "   image= cv2.imread(file) \n",
        "   hsvImage = cv2.cvtColor(image, cv2.COLOR_BGR2HSV)\n",
        "   cv2_imshow(hsvImage)\n"
      ],
      "metadata": {
        "id": "Qbqmo3FGE8F_"
      },
      "execution_count": null,
      "outputs": []
    }
  ],
  "metadata": {
    "colab": {
      "collapsed_sections": [],
      "provenance": []
    },
    "kernelspec": {
      "display_name": "Python 3",
      "name": "python3"
    },
    "language_info": {
      "name": "python"
    },
    "gpuClass": "standard"
  },
  "nbformat": 4,
  "nbformat_minor": 0
}